{
 "cells": [
  {
   "cell_type": "code",
   "execution_count": null,
   "id": "35d63b04",
   "metadata": {},
   "outputs": [],
   "source": [
    "1. Is the Python Standard Library included with PyInputPlus?\n",
    "ans:\n",
    "    PyInputPlus is not a part of Python Standard Library,\n",
    "    we can installe by  using the command !pip install PyInputPlus.\n",
    "    "
   ]
  },
  {
   "cell_type": "code",
   "execution_count": 1,
   "id": "c40959d3",
   "metadata": {},
   "outputs": [
    {
     "name": "stdout",
     "output_type": "stream",
     "text": [
      "Requirement already satisfied: PyInputPlus in c:\\users\\admin\\anaconda3\\lib\\site-packages (0.2.12)\n",
      "Requirement already satisfied: pysimplevalidate>=0.2.7 in c:\\users\\admin\\anaconda3\\lib\\site-packages (from PyInputPlus) (0.2.12)\n",
      "Requirement already satisfied: stdiomask>=0.0.3 in c:\\users\\admin\\anaconda3\\lib\\site-packages (from PyInputPlus) (0.0.6)\n"
     ]
    }
   ],
   "source": [
    "!pip install PyInputPlus"
   ]
  },
  {
   "cell_type": "code",
   "execution_count": null,
   "id": "a5bcabb6",
   "metadata": {},
   "outputs": [],
   "source": [
    "2. Why is PyInputPlus commonly imported with import pyinputplus as pypi?\n",
    "ans:\n",
    "    PyInputPlus commonly imported with import pyinputplus as pypi because it saves our time ,\n",
    "    like whenever we want to call that function we can just type pypi and we can use that function insted of typing\n",
    "    PyInputPlus, and also we can use any other alias insted of pypi as our convenient."
   ]
  },
  {
   "cell_type": "code",
   "execution_count": null,
   "id": "a8818aeb",
   "metadata": {},
   "outputs": [],
   "source": [
    "3. How do you distinguish between inputInt() and inputFloat()?\n",
    "ans:\n",
    "     inputInt()\n",
    "        Accepts an integer value and Returns an int value. \n",
    "    inputFloat()\n",
    "        Accepts a floating-point numeric value."
   ]
  },
  {
   "cell_type": "code",
   "execution_count": null,
   "id": "818450f7",
   "metadata": {},
   "outputs": [],
   "source": [
    "4. Using PyInputPlus, how do you ensure that the user enters a whole number between 0 and 99?\n",
    "ans:\n",
    "    PyInputPlus module has a  function called as inputInt() it returns only integer values.\n",
    "    To restrict the input between 0 and 99, we can use parameters like min & max to ensure that user enters the values between the given range."
   ]
  },
  {
   "cell_type": "code",
   "execution_count": null,
   "id": "9f13250b",
   "metadata": {},
   "outputs": [
    {
     "name": "stdout",
     "output_type": "stream",
     "text": [
      "666\n",
      "Number must be at maximum 99.\n"
     ]
    }
   ],
   "source": [
    "#eg\n",
    "import pyinputplus as pyip\n",
    "n = pyip.inputInt(min=0, max=99)\n",
    "print(n)"
   ]
  },
  {
   "cell_type": "code",
   "execution_count": null,
   "id": "75da49de",
   "metadata": {},
   "outputs": [],
   "source": [
    "5. What is transferred to the keyword arguments allowRegexes and blockRegexes?\n",
    "ans:\n",
    "    The allowRegexes and blockRegexes keyword arguments are used to take the list of regular expression strings to determine\n",
    "what the pyinputplus function will reject or accept valid input."
   ]
  },
  {
   "cell_type": "code",
   "execution_count": null,
   "id": "2d497a43",
   "metadata": {},
   "outputs": [],
   "source": [
    "6. If a blank input is entered three times, what does inputStr(limit=3) do?\n",
    "ans:\n",
    "    First ValidationException is thrown because blank values are not allowed by inputStr() function by default.\n",
    "    if we want to consider blank values as valid input, we have to set blank=True.\n",
    "    The statement inputStr(limit=3) will throw RetryLimitException. \n",
    "    The second exception is occured because we have reached the max limit we have specified by using limit parameter."
   ]
  },
  {
   "cell_type": "code",
   "execution_count": null,
   "id": "1a7dc237",
   "metadata": {},
   "outputs": [],
   "source": [
    "7. If blank input is entered three times, what does inputStr(limit=3, default='hello') do?\n",
    "ans:\n",
    "    Here the default parameter is set to hello. after three blank input is entered it will not raise RetryLimitException,\n",
    "    the function will return hello because default is set to hello."
   ]
  },
  {
   "cell_type": "code",
   "execution_count": null,
   "id": "a91176fe",
   "metadata": {},
   "outputs": [],
   "source": []
  },
  {
   "cell_type": "code",
   "execution_count": null,
   "id": "af78570c",
   "metadata": {},
   "outputs": [],
   "source": []
  },
  {
   "cell_type": "code",
   "execution_count": null,
   "id": "7786879c",
   "metadata": {},
   "outputs": [],
   "source": []
  },
  {
   "cell_type": "code",
   "execution_count": null,
   "id": "480e53b0",
   "metadata": {},
   "outputs": [],
   "source": []
  }
 ],
 "metadata": {
  "kernelspec": {
   "display_name": "Python 3 (ipykernel)",
   "language": "python",
   "name": "python3"
  },
  "language_info": {
   "codemirror_mode": {
    "name": "ipython",
    "version": 3
   },
   "file_extension": ".py",
   "mimetype": "text/x-python",
   "name": "python",
   "nbconvert_exporter": "python",
   "pygments_lexer": "ipython3",
   "version": "3.9.7"
  }
 },
 "nbformat": 4,
 "nbformat_minor": 5
}
